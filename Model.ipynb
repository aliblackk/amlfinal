{
  "nbformat": 4,
  "nbformat_minor": 0,
  "metadata": {
    "colab": {
      "provenance": []
    },
    "kernelspec": {
      "name": "python3",
      "display_name": "Python 3"
    },
    "language_info": {
      "name": "python"
    }
  },
  "cells": [
    {
      "cell_type": "code",
      "source": [
        "import gdown\n",
        "import zipfile\n",
        "import os\n",
        "\n",
        "# Google Drive file ID and URL\n",
        "file_id = \"1EEPJeNoL_r9nVTCyCEKNiBx371dG_SJx\"\n",
        "url = f\"https://drive.google.com/uc?id={file_id}\"\n",
        "\n",
        "# Destination file path\n",
        "output_path = \"data_split.zip\"\n",
        "\n",
        "# Download the file from Google Drive\n",
        "gdown.download(url, output_path, quiet=False)\n",
        "\n",
        "# Extract the ZIP file\n",
        "with zipfile.ZipFile(output_path, 'r') as zip_ref:\n",
        "    zip_ref.extractall(\"./\")  # Extract into the current directory\n",
        "\n",
        "# List all extracted directories\n",
        "dirs = [d for d in os.listdir() if os.path.isdir(d)]\n",
        "\n",
        "# Filter out only numeric directories and sort them numerically\n",
        "numeric_dirs = [d for d in dirs if d.isdigit()]\n",
        "sorted_dirs = sorted(numeric_dirs, key=lambda x: int(x))\n",
        "\n",
        "# Optionally, rename directories to ensure they are in numerical order\n",
        "for i, d in enumerate(sorted_dirs):\n",
        "    os.rename(d, str(i))  # Rename to '0', '1', '2', etc.\n",
        "\n",
        "print(\"Folders have been renamed and sorted numerically.\")"
      ],
      "metadata": {
        "colab": {
          "base_uri": "https://localhost:8080/"
        },
        "id": "5oO55bEUyEyI",
        "outputId": "1f93d1a5-e55b-4b23-f1f0-a9f9e390415f"
      },
      "execution_count": 1,
      "outputs": [
        {
          "output_type": "stream",
          "name": "stderr",
          "text": [
            "Downloading...\n",
            "From (original): https://drive.google.com/uc?id=1EEPJeNoL_r9nVTCyCEKNiBx371dG_SJx\n",
            "From (redirected): https://drive.google.com/uc?id=1EEPJeNoL_r9nVTCyCEKNiBx371dG_SJx&confirm=t&uuid=ef6e0f2c-94c3-4566-ad30-7a8a9cf13390\n",
            "To: /content/data_split.zip\n",
            "100%|██████████| 47.3M/47.3M [00:00<00:00, 95.2MB/s]\n"
          ]
        },
        {
          "output_type": "stream",
          "name": "stdout",
          "text": [
            "Folders have been renamed and sorted numerically.\n"
          ]
        }
      ]
    },
    {
      "cell_type": "code",
      "source": [
        "#pytoch data loader\n",
        "import torch.optim as optim\n",
        "import os\n",
        "import torch\n",
        "from torch.utils.data import DataLoader\n",
        "from torchvision import datasets, transforms\n",
        "import torch.nn as nn\n",
        "\n",
        "# Set the device (CPU or GPU)\n",
        "device = torch.device(\"cuda\" if torch.cuda.is_available() else \"cpu\")\n",
        "# Paths to splits\n",
        "train_dir = \"/content/data_split/train\"\n",
        "val_dir = \"/content/data_split/validation\"\n",
        "test_dir = \"/content/data_split/test\"\n",
        "\n",
        "# Image dimensions and batch size\n",
        "img_size = (224, 224)\n",
        "batch_size = 32\n",
        "\n",
        "train_transform = transforms.Compose([\n",
        "    transforms.Resize(img_size),\n",
        "    transforms.RandomHorizontalFlip(),\n",
        "    transforms.RandomRotation(15),\n",
        "    transforms.ToTensor(),\n",
        "    transforms.Normalize(mean=[0.485, 0.456, 0.406], std=[0.229, 0.224, 0.225])\n",
        "])\n",
        "\n",
        "val_test_transform = transforms.Compose([\n",
        "    transforms.Resize(img_size),\n",
        "    transforms.ToTensor(),\n",
        "    transforms.Normalize(mean=[0.485, 0.456, 0.406], std=[0.229, 0.224, 0.225])\n",
        "])\n",
        "\n",
        "train_dataset = datasets.ImageFolder(train_dir, transform=train_transform)\n",
        "val_dataset = datasets.ImageFolder(val_dir, transform=val_test_transform)\n",
        "test_dataset = datasets.ImageFolder(test_dir, transform=val_test_transform)\n",
        "\n",
        "train_loader = DataLoader(train_dataset, batch_size=batch_size, shuffle=True)\n",
        "val_loader = DataLoader(val_dataset, batch_size=batch_size, shuffle=False)\n",
        "test_loader = DataLoader(test_dataset, batch_size=batch_size, shuffle=False)\n",
        "\n",
        "print(f'Train dataset size: {len(train_dataset)}')\n",
        "print(f'Validation dataset size: {len(val_dataset)}')\n",
        "print(f'Test dataset size: {len(test_dataset)}')"
      ],
      "metadata": {
        "colab": {
          "base_uri": "https://localhost:8080/"
        },
        "id": "AdrTYFAxwnhb",
        "outputId": "c18bb6be-9b35-4ae9-b4e9-d6d4a9320d20"
      },
      "execution_count": 1,
      "outputs": [
        {
          "output_type": "stream",
          "name": "stdout",
          "text": [
            "Train dataset size: 2730\n",
            "Validation dataset size: 572\n",
            "Test dataset size: 598\n"
          ]
        }
      ]
    },
    {
      "cell_type": "code",
      "source": [
        "class CustomCNN(nn.Module):\n",
        "    def __init__(self):\n",
        "        super(CustomCNN, self).__init__()\n",
        "        self.conv1 = nn.Conv2d(3, 64, kernel_size=3, padding=1)\n",
        "        self.conv2 = nn.Conv2d(64, 128, kernel_size=3, padding=1)\n",
        "        self.conv3 = nn.Conv2d(128, 256, kernel_size=3, padding=1)\n",
        "        self.pool = nn.MaxPool2d(2, 2)\n",
        "        self.fc1 = nn.Linear(256 * 28 * 28, 512)\n",
        "        self.fc2 = nn.Linear(512, 26)\n",
        "\n",
        "        self.relu = nn.ReLU()\n",
        "        self.dropout = nn.Dropout(0.2)\n",
        "        self.batch_norm = nn.BatchNorm1d(512)\n",
        "\n",
        "    def forward(self, x):\n",
        "        x = self.pool(nn.ReLU()(self.conv1(x)))\n",
        "        x = self.pool(nn.ReLU()(self.conv2(x)))\n",
        "        x = self.pool(nn.ReLU()(self.conv3(x)))\n",
        "        x = x.view(-1, 256 * 28 * 28)\n",
        "        x = self.relu(self.fc1(x))\n",
        "        x = self.batch_norm(x)\n",
        "        x = self.dropout(x)\n",
        "        x = self.fc2(x)\n",
        "        return x"
      ],
      "metadata": {
        "id": "xGWAa-2zxDY4"
      },
      "execution_count": 3,
      "outputs": []
    },
    {
      "cell_type": "code",
      "source": [
        "def train_model(model, train_loader, val_loader, criterion, optimizer, num_epochs=10, device=device):\n",
        "    best_acc = 0.0\n",
        "    for epoch in range(num_epochs):\n",
        "        model.train()\n",
        "        running_loss = 0.0\n",
        "        correct = 0\n",
        "        total = 0\n",
        "\n",
        "        for inputs, labels in train_loader:\n",
        "            inputs, labels = inputs.to(device), labels.to(device)\n",
        "\n",
        "            optimizer.zero_grad()\n",
        "            outputs = model(inputs)\n",
        "            loss = criterion(outputs, labels)\n",
        "            loss.backward()\n",
        "            optimizer.step()\n",
        "\n",
        "            running_loss += loss.item()\n",
        "            _, predicted = torch.max(outputs, 1)\n",
        "            correct += (predicted == labels).sum().item()\n",
        "            total += labels.size(0)\n",
        "\n",
        "        train_accuracy = correct / total\n",
        "        print(f\"Epoch {epoch+1}/{num_epochs}, Loss: {running_loss/len(train_loader)}, Accuracy: {train_accuracy*100}%\")\n",
        "\n",
        "        model.eval()\n",
        "        val_loss = 0.0\n",
        "        val_correct = 0\n",
        "        val_total = 0\n",
        "\n",
        "        with torch.no_grad():\n",
        "            for inputs, labels in val_loader:\n",
        "                inputs, labels = inputs.to(device), labels.to(device)\n",
        "                outputs = model(inputs)\n",
        "                loss = criterion(outputs, labels)\n",
        "                val_loss += loss.item()\n",
        "                _, predicted = torch.max(outputs, 1)\n",
        "                val_correct += (predicted == labels).sum().item()\n",
        "                val_total += labels.size(0)\n",
        "\n",
        "        val_accuracy = val_correct / val_total\n",
        "        print(f\"Validation Accuracy: {val_accuracy*100}%\")\n",
        "\n",
        "    return model"
      ],
      "metadata": {
        "id": "Wpj2T7lsxdl6"
      },
      "execution_count": 4,
      "outputs": []
    },
    {
      "cell_type": "code",
      "source": [
        "best_batch_size = 32\n",
        "best_learning_rate = 0.001\n",
        "best_weight_decay = 0.0001\n",
        "\n",
        "model = CustomCNN().to(device)\n",
        "optimizer = optim.Adam(model.parameters(), lr=best_learning_rate, weight_decay=best_weight_decay)\n",
        "\n",
        "train_loader = DataLoader(train_dataset, batch_size=best_batch_size, shuffle=True)\n",
        "val_loader = DataLoader(val_dataset, batch_size=best_batch_size, shuffle=False)\n",
        "\n",
        "epochs = 10\n",
        "criterion = nn.CrossEntropyLoss()\n",
        "\n",
        "final_trained_model = train_model(model, train_loader, val_loader, criterion, optimizer, epochs)"
      ],
      "metadata": {
        "id": "TK0kzLWIxJYt",
        "colab": {
          "base_uri": "https://localhost:8080/"
        },
        "outputId": "ef1b5d94-03ac-470f-dde3-4b50b894c083"
      },
      "execution_count": 5,
      "outputs": [
        {
          "output_type": "stream",
          "name": "stdout",
          "text": [
            "Epoch 1/10, Loss: 0.4932769084955717, Accuracy: 90.76923076923077%\n",
            "Validation Accuracy: 100.0%\n",
            "Epoch 2/10, Loss: 0.013760132834228665, Accuracy: 100.0%\n",
            "Validation Accuracy: 100.0%\n",
            "Epoch 3/10, Loss: 0.006394736818037927, Accuracy: 100.0%\n",
            "Validation Accuracy: 100.0%\n",
            "Epoch 4/10, Loss: 0.003082443941059674, Accuracy: 100.0%\n",
            "Validation Accuracy: 100.0%\n",
            "Epoch 5/10, Loss: 0.006184950565681035, Accuracy: 100.0%\n",
            "Validation Accuracy: 100.0%\n",
            "Epoch 6/10, Loss: 0.015976187800122207, Accuracy: 99.8901098901099%\n",
            "Validation Accuracy: 100.0%\n",
            "Epoch 7/10, Loss: 0.00611541896441215, Accuracy: 99.92673992673993%\n",
            "Validation Accuracy: 100.0%\n",
            "Epoch 8/10, Loss: 0.0022680495099467765, Accuracy: 100.0%\n",
            "Validation Accuracy: 100.0%\n",
            "Epoch 9/10, Loss: 0.0012058676589350758, Accuracy: 100.0%\n",
            "Validation Accuracy: 100.0%\n",
            "Epoch 10/10, Loss: 0.0006567969434992085, Accuracy: 100.0%\n",
            "Validation Accuracy: 100.0%\n"
          ]
        }
      ]
    },
    {
      "cell_type": "code",
      "source": [
        "# Save the trained model\n",
        "torch.save(final_trained_model.state_dict(), \"custom_cnn_model.pth\")"
      ],
      "metadata": {
        "id": "NhAuFVCU3hMf"
      },
      "execution_count": 7,
      "outputs": []
    }
  ]
}